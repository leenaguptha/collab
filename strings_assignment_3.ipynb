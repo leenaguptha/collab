{
  "nbformat": 4,
  "nbformat_minor": 0,
  "metadata": {
    "colab": {
      "provenance": [],
      "include_colab_link": true
    },
    "kernelspec": {
      "name": "python3",
      "display_name": "Python 3"
    },
    "language_info": {
      "name": "python"
    }
  },
  "cells": [
    {
      "cell_type": "markdown",
      "metadata": {
        "id": "view-in-github",
        "colab_type": "text"
      },
      "source": [
        "<a href=\"https://colab.research.google.com/github/leenaguptha/collab/blob/main/strings_assignment_3.ipynb\" target=\"_parent\"><img src=\"https://colab.research.google.com/assets/colab-badge.svg\" alt=\"Open In Colab\"/></a>"
      ]
    },
    {
      "cell_type": "markdown",
      "source": [
        "1.Write a Python program to count the number of vowels in a string.\n",
        "\n",
        "input : hasdfgeuionhjl"
      ],
      "metadata": {
        "id": "q8RkYTES1QUW"
      }
    },
    {
      "cell_type": "code",
      "source": [
        "# write your code here\n",
        "input_string = \"hasdfgeuionhjl\"\n",
        "vowels = \"aeiou\"\n",
        "vowel_count = sum(1 for char in input_string if char in vowels)\n",
        "print(vowel_count)"
      ],
      "metadata": {
        "id": "UHi6ezjV1X0s",
        "colab": {
          "base_uri": "https://localhost:8080/"
        },
        "outputId": "374b08b9-40d0-45c2-fd83-dbd995f1ac34"
      },
      "execution_count": 1,
      "outputs": [
        {
          "output_type": "stream",
          "name": "stdout",
          "text": [
            "5\n"
          ]
        }
      ]
    },
    {
      "cell_type": "markdown",
      "source": [
        "2.Write a Python program to count the occurrences of each word in a sentence.\n",
        "\n",
        "input : hi hello hi and and hi more and more programming"
      ],
      "metadata": {
        "id": "v7GBEK161QWy"
      }
    },
    {
      "cell_type": "code",
      "source": [
        "# write your code here\n",
        "input_sentence = \"hi hello hi and and hi more and more programming\"\n",
        "words = input_sentence.split()\n",
        "word_counts = {}\n",
        "for word in words:\n",
        "    word_counts[word] = word_counts.get(word, 0) + 1\n",
        "print(word_counts)"
      ],
      "metadata": {
        "id": "R-UzDybK1uZo",
        "colab": {
          "base_uri": "https://localhost:8080/"
        },
        "outputId": "2750a898-7331-46db-e9a3-2a5dcda36bf8"
      },
      "execution_count": 2,
      "outputs": [
        {
          "output_type": "stream",
          "name": "stdout",
          "text": [
            "{'hi': 3, 'hello': 1, 'and': 3, 'more': 2, 'programming': 1}\n"
          ]
        }
      ]
    },
    {
      "cell_type": "markdown",
      "source": [
        "3.In python how can you differentiate strings and lists. Give atleast 5 different comparisons between them."
      ],
      "metadata": {
        "id": "evCcw-0H1QY9"
      }
    },
    {
      "cell_type": "markdown",
      "source": [
        "\n",
        "```\n",
        "\n",
        "Answer:\n",
        "1. Mutability: Strings are immutable (cannot be changed after creation), while lists are mutable (can be changed).\n",
        "2. Data Type: Strings store sequences of characters, while lists can store sequences of any data type (numbers, strings, other lists, etc.).\n",
        "3. Syntax: Strings are enclosed in single or double quotes (\"\" or ''), while lists are enclosed in square brackets ([]).\n",
        "4. Operations: Strings support operations like string formatting, slicing, and methods like .upper(), .lower(), etc. Lists support operations like appending, inserting, removing elements, and methods like .append(), .insert(), .remove(), etc.\n",
        "5. Iterability: Both strings and lists are iterable, meaning you can loop through their elements using a for loop. However, they iterate over different units: characters in strings, and elements in lists."
      ],
      "metadata": {
        "id": "OfiTI0pv1QbU"
      }
    },
    {
      "cell_type": "markdown",
      "source": [
        "4.Write a string for your own of approximately 40 in length and perform any 5 different string operations on that."
      ],
      "metadata": {
        "id": "riR1PWxG1Qdq"
      }
    },
    {
      "cell_type": "code",
      "source": [
        "#Write your code here\n",
        "my_string = \"This is a sample string for operations\"\n",
        "\n",
        "# Operation 1: Length\n",
        "print(f\"Length: {len(my_string)}\")\n",
        "\n",
        "# Operation 2: Uppercase\n",
        "print(f\"Uppercase: {my_string.upper()}\")\n",
        "\n",
        "# Operation 3: Slicing\n",
        "print(f\"Slice: {my_string[5:15]}\")\n",
        "\n",
        "# Operation 4: Find\n",
        "print(f\"Find 'sample': {my_string.find('sample')}\")\n",
        "\n",
        "# Operation 5: Replace\n",
        "print(f\"Replace 'sample' with 'test': {my_string.replace('sample', 'test')}\")\n"
      ],
      "metadata": {
        "id": "3bHyrDS12e8i",
        "colab": {
          "base_uri": "https://localhost:8080/"
        },
        "outputId": "827ae02c-3024-4461-d3c9-c130c0ef6432"
      },
      "execution_count": 3,
      "outputs": [
        {
          "output_type": "stream",
          "name": "stdout",
          "text": [
            "Length: 38\n",
            "Uppercase: THIS IS A SAMPLE STRING FOR OPERATIONS\n",
            "Slice: is a sampl\n",
            "Find 'sample': 10\n",
            "Replace 'sample' with 'test': This is a test string for operations\n"
          ]
        }
      ]
    },
    {
      "cell_type": "markdown",
      "source": [
        "5.Explain the concatination in strings with a neat example."
      ],
      "metadata": {
        "id": "bbUm7VVN1Qfu"
      }
    },
    {
      "cell_type": "code",
      "source": [
        "#write your code and explanation here\n",
        "# Concatenation is the process of joining two or more strings together to create a new string.\n",
        "# In Python, you can concatenate strings using the + operator.\n",
        "\n",
        "string1 = \"Hello, \"\n",
        "string2 = \"world!\"\n",
        "result_string = string1 + string2\n",
        "print(result_string)  # Output: Hello, world!\n",
        "\n",
        "# Another way to concatinate strings is using the .join() method.\n",
        "words = [\"This\", \"is\", \"a\", \"sentence.\"]\n",
        "sentence = \" \".join(words)\n",
        "print(sentence)"
      ],
      "metadata": {
        "id": "y9292Q452tF0",
        "colab": {
          "base_uri": "https://localhost:8080/"
        },
        "outputId": "fb42fc3e-cb2e-442f-a851-1da4fbf85eee"
      },
      "execution_count": 4,
      "outputs": [
        {
          "output_type": "stream",
          "name": "stdout",
          "text": [
            "Hello, world!\n",
            "This is a sentence.\n"
          ]
        }
      ]
    },
    {
      "cell_type": "code",
      "source": [],
      "metadata": {
        "id": "vnMNtJgq2xuG"
      },
      "execution_count": null,
      "outputs": []
    }
  ]
}