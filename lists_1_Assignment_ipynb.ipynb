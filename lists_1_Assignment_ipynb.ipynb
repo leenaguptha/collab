{
  "nbformat": 4,
  "nbformat_minor": 0,
  "metadata": {
    "colab": {
      "provenance": [],
      "include_colab_link": true
    },
    "kernelspec": {
      "name": "python3",
      "display_name": "Python 3"
    },
    "language_info": {
      "name": "python"
    }
  },
  "cells": [
    {
      "cell_type": "markdown",
      "metadata": {
        "id": "view-in-github",
        "colab_type": "text"
      },
      "source": [
        "<a href=\"https://colab.research.google.com/github/leenaguptha/collab/blob/main/lists_1_Assignment_ipynb.ipynb\" target=\"_parent\"><img src=\"https://colab.research.google.com/assets/colab-badge.svg\" alt=\"Open In Colab\"/></a>"
      ]
    },
    {
      "cell_type": "markdown",
      "source": [
        "1.Are lists mutable or immutable, explain with an example"
      ],
      "metadata": {
        "id": "Mxypr15V3U7e"
      }
    },
    {
      "cell_type": "code",
      "source": [
        "#Lists are mutable. This means that you can change the contents of a list after it has been created.\n",
        "\n",
        "my_list = [1, 2, 3]\n",
        "print(my_list)\n",
        "\n",
        "my_list[0] = 10  # Modify the first element\n",
        "print(my_list)\n",
        "\n",
        "my_list.append(4) # add element to the list\n",
        "print(my_list)"
      ],
      "metadata": {
        "id": "c_aTKXsT3p0P",
        "colab": {
          "base_uri": "https://localhost:8080/"
        },
        "outputId": "14825ffb-a942-46f8-f18a-6b58e764c8a1"
      },
      "execution_count": 3,
      "outputs": [
        {
          "output_type": "stream",
          "name": "stdout",
          "text": [
            "[1, 2, 3]\n",
            "[10, 2, 3]\n",
            "[10, 2, 3, 4]\n"
          ]
        }
      ]
    },
    {
      "cell_type": "markdown",
      "source": [],
      "metadata": {
        "id": "Jd2G4J_c3tm7"
      }
    },
    {
      "cell_type": "markdown",
      "source": [
        "2.Take any example of list on your own and perform atleast 5 list operations on that"
      ],
      "metadata": {
        "id": "uPYH4kpZ3U97"
      }
    },
    {
      "cell_type": "code",
      "source": [
        "#write your code here\n",
        "my_list = [10, 20, 30, 40, 50]\n",
        "\n",
        "# Operation 1: Append\n",
        "my_list.append(60)\n",
        "print(f\"Append: {my_list}\")\n",
        "\n",
        "# Operation 2: Insert\n",
        "my_list.insert(2, 25)\n",
        "print(f\"Insert: {my_list}\")\n",
        "\n",
        "# Operation 3: Remove\n",
        "my_list.remove(30)\n",
        "print(f\"Remove: {my_list}\")\n",
        "\n",
        "# Operation 4: Pop\n",
        "popped_element = my_list.pop(3)\n",
        "print(f\"Pop: {my_list}, Popped: {popped_element}\")\n",
        "\n",
        "# Operation 5: Slicing\n",
        "sliced_list = my_list[1:4]\n",
        "print(f\"Slice: {sliced_list}\")"
      ],
      "metadata": {
        "id": "vSxe0pwG36ME",
        "colab": {
          "base_uri": "https://localhost:8080/"
        },
        "outputId": "c05cb5db-28ac-4f53-8c5e-1e463d1bd623"
      },
      "execution_count": 4,
      "outputs": [
        {
          "output_type": "stream",
          "name": "stdout",
          "text": [
            "Append: [10, 20, 30, 40, 50, 60]\n",
            "Insert: [10, 20, 25, 30, 40, 50, 60]\n",
            "Remove: [10, 20, 25, 40, 50, 60]\n",
            "Pop: [10, 20, 25, 50, 60], Popped: 40\n",
            "Slice: [20, 25, 50]\n"
          ]
        }
      ]
    },
    {
      "cell_type": "markdown",
      "source": [
        "3.Create a new list containing only the even numbers from the original list.\n",
        "\n",
        "original list ;[1,2,2,4,5,6,7,12,3,456,78,67,89,90]"
      ],
      "metadata": {
        "id": "1aSo9eEU3VAT"
      }
    },
    {
      "cell_type": "code",
      "source": [
        "#write your code here\n",
        "original_list = [1, 2, 2, 4, 5, 6, 7, 12, 3, 456, 78, 67, 89, 90]\n",
        "even_numbers = [num for num in original_list if num % 2 == 0]\n",
        "print(even_numbers)\n"
      ],
      "metadata": {
        "id": "e-_3vMX54Upe",
        "colab": {
          "base_uri": "https://localhost:8080/"
        },
        "outputId": "7ad48f43-a258-4edc-c831-60c4529c031d"
      },
      "execution_count": 5,
      "outputs": [
        {
          "output_type": "stream",
          "name": "stdout",
          "text": [
            "[2, 2, 4, 6, 12, 456, 78, 90]\n"
          ]
        }
      ]
    },
    {
      "cell_type": "markdown",
      "source": [
        "4.Create a new list with the squares of each element in the original list.\n",
        "\n",
        "original list : [3,5,6,8,2,45]"
      ],
      "metadata": {
        "id": "y1b95q7k3VCz"
      }
    },
    {
      "cell_type": "code",
      "source": [
        "#write your code here\n",
        "original_list = [3, 5, 6, 8, 2, 45]\n",
        "squared_list = [num**2 for num in original_list]\n",
        "print(squared_list)\n"
      ],
      "metadata": {
        "id": "97M5xax24jM4",
        "colab": {
          "base_uri": "https://localhost:8080/"
        },
        "outputId": "40fa0d9b-fba6-481f-a4ae-43d3e92c32f8"
      },
      "execution_count": 6,
      "outputs": [
        {
          "output_type": "stream",
          "name": "stdout",
          "text": [
            "[9, 25, 36, 64, 4, 2025]\n"
          ]
        }
      ]
    },
    {
      "cell_type": "markdown",
      "source": [
        "5.Check if all elements in the list are positive and return all the positive elements in a new list.\n",
        "\n",
        "input ; [12,23,4,56,77,-89,7,90,90,-87,-99]"
      ],
      "metadata": {
        "id": "pzrQ5WBZ3VFQ"
      }
    },
    {
      "cell_type": "code",
      "source": [
        "# write your code here\n",
        "input_list = [12, 23, 4, 56, 77, -89, 7, 90, 90, -87, -99]\n",
        "positive_elements = [num for num in input_list if num > 0]\n",
        "print(positive_elements)\n",
        "\n",
        "all_positive = all(num > 0 for num in input_list)\n",
        "print(all_positive) #prints false because not all the numbers are positive."
      ],
      "metadata": {
        "id": "8x0148io5FcT",
        "colab": {
          "base_uri": "https://localhost:8080/"
        },
        "outputId": "b6cdd9c8-ec17-438b-84fe-56af92d4d1a3"
      },
      "execution_count": 7,
      "outputs": [
        {
          "output_type": "stream",
          "name": "stdout",
          "text": [
            "[12, 23, 4, 56, 77, 7, 90, 90]\n",
            "False\n"
          ]
        }
      ]
    }
  ]
}